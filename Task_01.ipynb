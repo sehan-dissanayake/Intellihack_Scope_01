{
 "cells": [
  {
   "cell_type": "code",
   "execution_count": null,
   "id": "41843481-99aa-49f9-a7f0-7ce8ea635e42",
   "metadata": {},
   "outputs": [],
   "source": [
    "# Install necessary libraries\n",
    "!pip install pandas numpy matplotlib seaborn scikit-learn openpyxl"
   ]
  },
  {
   "cell_type": "code",
   "execution_count": null,
   "id": "22b44925-f2cc-42d5-888f-fa9363505cc3",
   "metadata": {},
   "outputs": [],
   "source": [
    "# Import essential libraries\n",
    "import pandas as pd       \n",
    "import numpy as np        \n",
    "import matplotlib.pyplot as plt  \n",
    "import seaborn as sns     \n",
    "from sklearn.model_selection import train_test_split  \n",
    "from sklearn.preprocessing import StandardScaler      \n",
    "from sklearn.impute import SimpleImputer"
   ]
  },
  {
   "cell_type": "code",
   "execution_count": null,
   "id": "cf01f60e-aabf-4993-8099-3bdefd6fce8d",
   "metadata": {},
   "outputs": [],
   "source": [
    "df = pd.read_csv('weather_data.csv')\n",
    "df.head()"
   ]
  },
  {
   "cell_type": "code",
   "execution_count": null,
   "id": "6a6ea963-1554-49be-a3d4-79ae31a2f384",
   "metadata": {},
   "outputs": [],
   "source": []
  }
 ],
 "metadata": {
  "kernelspec": {
   "display_name": "Python 3 (ipykernel)",
   "language": "python",
   "name": "python3"
  },
  "language_info": {
   "codemirror_mode": {
    "name": "ipython",
    "version": 3
   },
   "file_extension": ".py",
   "mimetype": "text/x-python",
   "name": "python",
   "nbconvert_exporter": "python",
   "pygments_lexer": "ipython3",
   "version": "3.12.4"
  }
 },
 "nbformat": 4,
 "nbformat_minor": 5
}
