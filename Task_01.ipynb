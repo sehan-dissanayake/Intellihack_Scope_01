{
 "cells": [
  {
   "cell_type": "markdown",
   "id": "3e9f7ca2-8cdd-43ee-8cf4-fcec9115940f",
   "metadata": {},
   "source": [
    "# **IntelliHack Task 01 - Notebook**"
   ]
  },
  {
   "cell_type": "markdown",
   "id": "119d0f72-0194-44a6-8156-6e7f4bb48e69",
   "metadata": {},
   "source": [
    "## **Install and Import Libraries**"
   ]
  },
  {
   "cell_type": "code",
   "execution_count": 1,
   "id": "41843481-99aa-49f9-a7f0-7ce8ea635e42",
   "metadata": {},
   "outputs": [
    {
     "name": "stderr",
     "output_type": "stream",
     "text": [
      "'pip' is not recognized as an internal or external command,\n",
      "operable program or batch file.\n"
     ]
    }
   ],
   "source": [
    "# Install necessary libraries\n",
    "!pip install pandas numpy matplotlib seaborn scikit-learn openpyxl imbalanced-learn xgboost"
   ]
  },
  {
   "cell_type": "code",
   "execution_count": 2,
   "id": "22b44925-f2cc-42d5-888f-fa9363505cc3",
   "metadata": {},
   "outputs": [
    {
     "name": "stderr",
     "output_type": "stream",
     "text": [
      "Matplotlib is building the font cache; this may take a moment.\n"
     ]
    },
    {
     "ename": "ModuleNotFoundError",
     "evalue": "No module named 'imblearn'",
     "output_type": "error",
     "traceback": [
      "\u001b[31m---------------------------------------------------------------------------\u001b[39m",
      "\u001b[31mModuleNotFoundError\u001b[39m                       Traceback (most recent call last)",
      "\u001b[36mCell\u001b[39m\u001b[36m \u001b[39m\u001b[32mIn[2]\u001b[39m\u001b[32m, line 9\u001b[39m\n\u001b[32m      7\u001b[39m \u001b[38;5;28;01mfrom\u001b[39;00m\u001b[38;5;250m \u001b[39m\u001b[34;01msklearn\u001b[39;00m\u001b[34;01m.\u001b[39;00m\u001b[34;01mpreprocessing\u001b[39;00m\u001b[38;5;250m \u001b[39m\u001b[38;5;28;01mimport\u001b[39;00m StandardScaler      \n\u001b[32m      8\u001b[39m \u001b[38;5;28;01mfrom\u001b[39;00m\u001b[38;5;250m \u001b[39m\u001b[34;01msklearn\u001b[39;00m\u001b[34;01m.\u001b[39;00m\u001b[34;01mimpute\u001b[39;00m\u001b[38;5;250m \u001b[39m\u001b[38;5;28;01mimport\u001b[39;00m SimpleImputer\n\u001b[32m----> \u001b[39m\u001b[32m9\u001b[39m \u001b[38;5;28;01mimport\u001b[39;00m\u001b[38;5;250m \u001b[39m\u001b[34;01mimblearn\u001b[39;00m\n",
      "\u001b[31mModuleNotFoundError\u001b[39m: No module named 'imblearn'"
     ]
    }
   ],
   "source": [
    "# Import essential libraries\n",
    "import pandas as pd       \n",
    "import numpy as np        \n",
    "import matplotlib.pyplot as plt  \n",
    "import seaborn as sns     \n",
    "from sklearn.model_selection import train_test_split  \n",
    "from sklearn.preprocessing import StandardScaler      \n",
    "from sklearn.impute import SimpleImputer\n",
    "import imblearn"
   ]
  },
  {
   "cell_type": "markdown",
   "id": "8ae5ae37-9efc-4268-bce0-132eac9dac25",
   "metadata": {},
   "source": [
    "## **Dataset Import and Overview**"
   ]
  },
  {
   "cell_type": "code",
   "execution_count": null,
   "id": "cf01f60e-aabf-4993-8099-3bdefd6fce8d",
   "metadata": {},
   "outputs": [],
   "source": [
    "df = pd.read_csv('weather_data.csv')"
   ]
  },
  {
   "cell_type": "code",
   "execution_count": null,
   "id": "8dd9e884-f44e-42d5-9c3c-c36465aec478",
   "metadata": {},
   "outputs": [],
   "source": [
    "df.head()"
   ]
  },
  {
   "cell_type": "markdown",
   "id": "b583b502-112f-4fc6-9a02-307a768b8402",
   "metadata": {},
   "source": [
    "## **01. Data Pre-Processing**"
   ]
  },
  {
   "cell_type": "code",
   "execution_count": null,
   "id": "3ceb5571-9608-4e58-a1c6-89749eee33f2",
   "metadata": {},
   "outputs": [],
   "source": [
    "df.describe()"
   ]
  },
  {
   "cell_type": "code",
   "execution_count": null,
   "id": "6a6ea963-1554-49be-a3d4-79ae31a2f384",
   "metadata": {},
   "outputs": [],
   "source": [
    "print(df.dtypes)"
   ]
  },
  {
   "cell_type": "code",
   "execution_count": null,
   "id": "4d84a196-6a87-4ec1-bfed-89bf7caf8173",
   "metadata": {},
   "outputs": [],
   "source": [
    "df.shape"
   ]
  },
  {
   "cell_type": "code",
   "execution_count": null,
   "id": "a8f55d9c-ea3a-4ae5-b87b-fe167b7369cc",
   "metadata": {},
   "outputs": [],
   "source": [
    "# Check for missing values in each column\n",
    "missing_values = df.isnull().sum()\n",
    "print(missing_values)"
   ]
  },
  {
   "cell_type": "code",
   "execution_count": null,
   "id": "7a947e4d-2741-4a95-8d13-5b88572832f3",
   "metadata": {},
   "outputs": [],
   "source": [
    "# Create a copy of the original DataFrame\n",
    "df_clean = df.copy()\n",
    "\n",
    "# Convert specified columns to float using vectorized operation\n",
    "cols_to_convert = ['avg_temperature', 'humidity', 'avg_wind_speed', 'cloud_cover', 'pressure']\n",
    "df_clean[cols_to_convert] = df_clean[cols_to_convert].astype(float)\n",
    "\n",
    "# Handle missing values with median (vectorized approach)\n",
    "median_values = df_clean[cols_to_convert].median()\n",
    "df_clean[cols_to_convert] = df_clean[cols_to_convert].fillna(median_values)\n",
    "\n",
    "# Standardize numerical features\n",
    "scaler = StandardScaler()\n",
    "df_clean[cols_to_convert] = scaler.fit_transform(df_clean[cols_to_convert])\n",
    "\n",
    "# Process date feature using vectorized string operations\n",
    "df_clean['month'] = df_clean['date'].str.split(\"-\").str[1]\n",
    "df_clean['day'] = df_clean['date'].str.split(\"-\").str[2]\n",
    "df_clean = df_clean.drop('date', axis=1)\n",
    "\n",
    "# Encode target variable using dictionary mapping\n",
    "df_clean['rain_or_not'] = df_clean['rain_or_not'].map({'Rain': 1, 'No Rain': 0})"
   ]
  },
  {
   "cell_type": "code",
   "execution_count": null,
   "id": "24eeadbf-0cee-4c9b-b27b-d11fcb945a7c",
   "metadata": {},
   "outputs": [],
   "source": [
    "# Check for missing values in each column\n",
    "missing_values = df_clean.isnull().sum()\n",
    "print(missing_values)"
   ]
  },
  {
   "cell_type": "markdown",
   "id": "6fef247f-30e8-4d4f-9aab-94677e53941e",
   "metadata": {},
   "source": [
    "# EDA"
   ]
  },
  {
   "cell_type": "code",
   "execution_count": null,
   "id": "80e33181-a6c7-4fa0-8574-c9bb416ccea0",
   "metadata": {},
   "outputs": [],
   "source": [
    "features_to_check_outliers = ['humidity', 'avg_wind_speed', 'cloud_cover', 'pressure', 'avg_temperature']\n",
    "\n",
    "for feature in features_to_check_outliers:\n",
    "    plt.figure(figsize=(8, 6))\n",
    "    sns.boxplot(x=df[feature])\n",
    "    plt.title(f'Boxplot of {feature}')\n",
    "    plt.show()"
   ]
  },
  {
   "cell_type": "code",
   "execution_count": null,
   "id": "9b1ce9dc-fb4d-4a5d-8e47-46cb62cefbd9",
   "metadata": {},
   "outputs": [],
   "source": [
    "# Filter rows where avg_wind_speed is an outlier\n",
    "outliers = df[df['avg_wind_speed'] > 30]  # Adjust threshold based on your whisker\n",
    "print(outliers[['avg_wind_speed', 'rain_or_not']])"
   ]
  },
  {
   "cell_type": "code",
   "execution_count": null,
   "id": "f1fe8390-a724-4f1e-b7ce-be8fdae131f3",
   "metadata": {},
   "outputs": [],
   "source": [
    "import seaborn as sns\n",
    "import matplotlib.pyplot as plt\n",
    "\n",
    "# Count plot for 'rain_or_not'\n",
    "sns.countplot(x='rain_or_not', data=df)\n",
    "plt.title('Distribution of Rain vs. No Rain')\n",
    "plt.xlabel('Rain (1) or No Rain (0)')\n",
    "plt.ylabel('Count')\n",
    "plt.show()"
   ]
  },
  {
   "cell_type": "code",
   "execution_count": null,
   "id": "f6e6f346-7d39-4eca-9697-ac40b20902cf",
   "metadata": {},
   "outputs": [],
   "source": [
    "# List of numerical features\n",
    "numerical_features = ['avg_temperature', 'humidity', 'avg_wind_speed', 'cloud_cover', 'pressure']\n",
    "\n",
    "# Create histograms for each numerical feature\n",
    "for feature in numerical_features:\n",
    "    plt.figure(figsize=(8, 4))\n",
    "    sns.histplot(df[feature], kde=True)\n",
    "    plt.title(f'Distribution of {feature}')\n",
    "    plt.xlabel(feature)\n",
    "    plt.ylabel('Frequency')\n",
    "    plt.show()"
   ]
  },
  {
   "cell_type": "code",
   "execution_count": null,
   "id": "05912ed4-31ed-4934-809b-de75a658b3e9",
   "metadata": {},
   "outputs": [],
   "source": [
    "# Create box plots for each numerical feature grouped by 'rain_or_not'\n",
    "for feature in numerical_features:\n",
    "    plt.figure(figsize=(8, 4))\n",
    "    sns.boxplot(x='rain_or_not', y=feature, data=df)\n",
    "    plt.title(f'{feature} vs. Rain or Not')\n",
    "    plt.xlabel('Rain (1) or No Rain (0)')\n",
    "    plt.ylabel(feature)\n",
    "    plt.show()"
   ]
  },
  {
   "cell_type": "code",
   "execution_count": null,
   "id": "a61b0c05-77b5-402f-9f7e-599e5ea8c375",
   "metadata": {},
   "outputs": [],
   "source": [
    "import pandas as pd\n",
    "\n",
    "# Ensure 'date' is in datetime format\n",
    "df['date'] = pd.to_datetime(df['date'])\n",
    "\n",
    "# Plot 'rain_or_not' over time\n",
    "plt.figure(figsize=(12, 6))\n",
    "plt.plot(df['date'], df['rain_or_not'], marker='o', linestyle='None')\n",
    "plt.title('Rain or Not Over Time')\n",
    "plt.xlabel('Date')\n",
    "plt.ylabel('Rain (1) or No Rain (0)')\n",
    "plt.show()"
   ]
  },
  {
   "cell_type": "code",
   "execution_count": null,
   "id": "e04a24ff-eae0-4daa-98f8-7a5457b91a48",
   "metadata": {},
   "outputs": [],
   "source": [
    "# Select numerical features for correlation\n",
    "corr_matrix = df[numerical_features].corr()\n",
    "\n",
    "# Plot the correlation matrix as a heatmap\n",
    "plt.figure(figsize=(8, 6))\n",
    "sns.heatmap(corr_matrix, annot=True, cmap='coolwarm', vmin=-1, vmax=1)\n",
    "plt.title('Correlation Matrix of Numerical Features')\n",
    "plt.show()"
   ]
  },
  {
   "cell_type": "code",
   "execution_count": null,
   "id": "c2c0f436-9014-4acf-89c8-9b838ce5778d",
   "metadata": {},
   "outputs": [],
   "source": [
    "# Create pair plots for numerical features, colored by 'rain_or_not'\n",
    "sns.pairplot(df, vars=numerical_features, hue='rain_or_not', palette='Set1')\n",
    "plt.suptitle('Pair Plots of Numerical Features by Rain or Not', y=1.02)\n",
    "plt.show()"
   ]
  },
  {
   "cell_type": "code",
   "execution_count": null,
   "id": "e168b219-ad02-4f72-8c1f-a67be9a2ef80",
   "metadata": {},
   "outputs": [],
   "source": [
    "# Group by 'rain_or_not' and compute summary statistics\n",
    "summary_stats = df.groupby('rain_or_not')[numerical_features].describe()\n",
    "\n",
    "# Display the summary statistics\n",
    "print(summary_stats)"
   ]
  },
  {
   "cell_type": "markdown",
   "id": "e4c4815a-d32b-4e16-af5d-9ee82b47294f",
   "metadata": {},
   "source": [
    "## Model Selection and Training"
   ]
  },
  {
   "cell_type": "code",
   "execution_count": null,
   "id": "80e85442-b6e8-4735-a4ff-9a9e4950fcbf",
   "metadata": {},
   "outputs": [],
   "source": []
  }
 ],
 "metadata": {
  "kernelspec": {
   "display_name": "Python 3 (ipykernel)",
   "language": "python",
   "name": "python3"
  },
  "language_info": {
   "codemirror_mode": {
    "name": "ipython",
    "version": 3
   },
   "file_extension": ".py",
   "mimetype": "text/x-python",
   "name": "python",
   "nbconvert_exporter": "python",
   "pygments_lexer": "ipython3",
   "version": "3.13.2"
  }
 },
 "nbformat": 4,
 "nbformat_minor": 5
}
