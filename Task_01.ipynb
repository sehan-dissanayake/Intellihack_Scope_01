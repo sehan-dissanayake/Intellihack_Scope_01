{
 "cells": [
  {
   "cell_type": "code",
   "execution_count": null,
   "id": "41843481-99aa-49f9-a7f0-7ce8ea635e42",
   "metadata": {},
   "outputs": [],
   "source": [
    "# Install necessary libraries\n",
    "!pip install pandas numpy matplotlib seaborn scikit-learn openpyxl imbalanced-learn xgboost"
   ]
  },
  {
   "cell_type": "code",
   "execution_count": null,
   "id": "22b44925-f2cc-42d5-888f-fa9363505cc3",
   "metadata": {},
   "outputs": [],
   "source": [
    "# Import essential libraries\n",
    "import pandas as pd       \n",
    "import numpy as np        \n",
    "import matplotlib.pyplot as plt  \n",
    "import seaborn as sns     \n",
    "from sklearn.model_selection import train_test_split  \n",
    "from sklearn.preprocessing import StandardScaler      \n",
    "from sklearn.impute import SimpleImputer\n",
    "import imblearn"
   ]
  },
  {
   "cell_type": "code",
   "execution_count": null,
   "id": "cf01f60e-aabf-4993-8099-3bdefd6fce8d",
   "metadata": {},
   "outputs": [],
   "source": [
    "df = pd.read_csv('weather_data.csv')\n",
    "df.head()"
   ]
  },
  {
   "cell_type": "code",
   "execution_count": null,
   "id": "6a6ea963-1554-49be-a3d4-79ae31a2f384",
   "metadata": {},
   "outputs": [],
   "source": [
    "print(df.dtypes)"
   ]
  },
  {
   "cell_type": "code",
   "execution_count": null,
   "id": "4d84a196-6a87-4ec1-bfed-89bf7caf8173",
   "metadata": {},
   "outputs": [],
   "source": [
    "df.shape"
   ]
  },
  {
   "cell_type": "markdown",
   "id": "b583b502-112f-4fc6-9a02-307a768b8402",
   "metadata": {},
   "source": [
    "# Data Cleaning"
   ]
  },
  {
   "cell_type": "code",
   "execution_count": null,
   "id": "808636c6-b28b-43ca-bd8a-807e8c3f9c0e",
   "metadata": {},
   "outputs": [],
   "source": [
    "# Convert 'date' to datetime\n",
    "df['date'] = pd.to_datetime(df['date'])"
   ]
  },
  {
   "cell_type": "code",
   "execution_count": null,
   "id": "a8f55d9c-ea3a-4ae5-b87b-fe167b7369cc",
   "metadata": {},
   "outputs": [],
   "source": [
    "# Check for missing values in each column\n",
    "missing_values = df.isnull().sum()\n",
    "print(missing_values)"
   ]
  },
  {
   "cell_type": "code",
   "execution_count": null,
   "id": "bb7eb3c6-887e-47d6-a052-acdf3a7e8b11",
   "metadata": {},
   "outputs": [],
   "source": [
    "# Instead of dropping, impute missing values with column means\n",
    "df['avg_temperature'] = df['avg_temperature'].fillna(df['avg_temperature'].mean())\n",
    "df['humidity'] = df['humidity'].fillna(df['humidity'].mean())\n",
    "df['avg_wind_speed'] = df['avg_wind_speed'].fillna(df['avg_wind_speed'].mean())\n",
    "df['cloud_cover'] = df['cloud_cover'].fillna(df['cloud_cover'].mean())"
   ]
  },
  {
   "cell_type": "code",
   "execution_count": null,
   "id": "fe896ba6-9090-42a8-8270-2aa69ff34722",
   "metadata": {},
   "outputs": [],
   "source": [
    "# Check for remaining missing values\n",
    "print(\"Missing values after imputing:\\n\", df.isnull().sum())"
   ]
  },
  {
   "cell_type": "code",
   "execution_count": null,
   "id": "da3adc9e-8387-41f4-80ab-cf801c202dab",
   "metadata": {},
   "outputs": [],
   "source": [
    "# Check unique values in 'rain_or_not'\n",
    "print(df['rain_or_not'].unique())"
   ]
  },
  {
   "cell_type": "code",
   "execution_count": null,
   "id": "0700f550-86b4-4ef5-ad56-fba98605ba0b",
   "metadata": {},
   "outputs": [],
   "source": [
    "# Encode 'rain_or_not': 'Rain' -> 1, 'No Rain' -> 0\n",
    "df['rain_or_not'] = df['rain_or_not'].map({'Rain': 1, 'No Rain': 0})"
   ]
  },
  {
   "cell_type": "code",
   "execution_count": null,
   "id": "d06eefd8-bbf7-4bf8-83a3-2001a4a20019",
   "metadata": {},
   "outputs": [],
   "source": [
    "# Check unique values after encoding\n",
    "print(df['rain_or_not'].unique())\n",
    "\n",
    "# Check for NaN values after encoding\n",
    "print(df['rain_or_not'].isnull().sum())"
   ]
  },
  {
   "cell_type": "code",
   "execution_count": null,
   "id": "aa4cba6b-efe1-4e67-80c3-da1326c2a1c3",
   "metadata": {},
   "outputs": [],
   "source": [
    "# Features to check for negative values\n",
    "features_to_check = ['humidity', 'avg_wind_speed', 'cloud_cover', 'pressure']\n",
    "\n",
    "# Count negative values in each feature\n",
    "for feature in features_to_check:\n",
    "    negative_count = (df[feature] < 0).sum()\n",
    "    print(f\"Number of negative values in {feature}: {negative_count}\")"
   ]
  },
  {
   "cell_type": "code",
   "execution_count": null,
   "id": "307ac6c0-d301-4b7b-b729-bd150fa8794f",
   "metadata": {},
   "outputs": [],
   "source": [
    "df.sample(n=10)"
   ]
  },
  {
   "cell_type": "code",
   "execution_count": null,
   "id": "80e33181-a6c7-4fa0-8574-c9bb416ccea0",
   "metadata": {},
   "outputs": [],
   "source": [
    "features_to_check_outliers = ['humidity', 'avg_wind_speed', 'cloud_cover', 'pressure', 'avg_temperature']\n",
    "\n",
    "for feature in features_to_check_outliers:\n",
    "    plt.figure(figsize=(8, 6))\n",
    "    sns.boxplot(x=df[feature])\n",
    "    plt.title(f'Boxplot of {feature}')\n",
    "    plt.show()"
   ]
  },
  {
   "cell_type": "code",
   "execution_count": null,
   "id": "9b1ce9dc-fb4d-4a5d-8e47-46cb62cefbd9",
   "metadata": {},
   "outputs": [],
   "source": [
    "# Filter rows where avg_wind_speed is an outlier\n",
    "outliers = df[df['avg_wind_speed'] > 30]  # Adjust threshold based on your whisker\n",
    "print(outliers[['avg_wind_speed', 'rain_or_not']])"
   ]
  },
  {
   "cell_type": "markdown",
   "id": "6fef247f-30e8-4d4f-9aab-94677e53941e",
   "metadata": {},
   "source": [
    "# EDA"
   ]
  },
  {
   "cell_type": "code",
   "execution_count": null,
   "id": "f1fe8390-a724-4f1e-b7ce-be8fdae131f3",
   "metadata": {},
   "outputs": [],
   "source": [
    "import seaborn as sns\n",
    "import matplotlib.pyplot as plt\n",
    "\n",
    "# Count plot for 'rain_or_not'\n",
    "sns.countplot(x='rain_or_not', data=df)\n",
    "plt.title('Distribution of Rain vs. No Rain')\n",
    "plt.xlabel('Rain (1) or No Rain (0)')\n",
    "plt.ylabel('Count')\n",
    "plt.show()"
   ]
  },
  {
   "cell_type": "code",
   "execution_count": null,
   "id": "f6e6f346-7d39-4eca-9697-ac40b20902cf",
   "metadata": {},
   "outputs": [],
   "source": [
    "# List of numerical features\n",
    "numerical_features = ['avg_temperature', 'humidity', 'avg_wind_speed', 'cloud_cover', 'pressure']\n",
    "\n",
    "# Create histograms for each numerical feature\n",
    "for feature in numerical_features:\n",
    "    plt.figure(figsize=(8, 4))\n",
    "    sns.histplot(df[feature], kde=True)\n",
    "    plt.title(f'Distribution of {feature}')\n",
    "    plt.xlabel(feature)\n",
    "    plt.ylabel('Frequency')\n",
    "    plt.show()"
   ]
  },
  {
   "cell_type": "code",
   "execution_count": null,
   "id": "05912ed4-31ed-4934-809b-de75a658b3e9",
   "metadata": {},
   "outputs": [],
   "source": [
    "# Create box plots for each numerical feature grouped by 'rain_or_not'\n",
    "for feature in numerical_features:\n",
    "    plt.figure(figsize=(8, 4))\n",
    "    sns.boxplot(x='rain_or_not', y=feature, data=df)\n",
    "    plt.title(f'{feature} vs. Rain or Not')\n",
    "    plt.xlabel('Rain (1) or No Rain (0)')\n",
    "    plt.ylabel(feature)\n",
    "    plt.show()"
   ]
  },
  {
   "cell_type": "code",
   "execution_count": null,
   "id": "a61b0c05-77b5-402f-9f7e-599e5ea8c375",
   "metadata": {},
   "outputs": [],
   "source": [
    "import pandas as pd\n",
    "\n",
    "# Ensure 'date' is in datetime format\n",
    "df['date'] = pd.to_datetime(df['date'])\n",
    "\n",
    "# Plot 'rain_or_not' over time\n",
    "plt.figure(figsize=(12, 6))\n",
    "plt.plot(df['date'], df['rain_or_not'], marker='o', linestyle='None')\n",
    "plt.title('Rain or Not Over Time')\n",
    "plt.xlabel('Date')\n",
    "plt.ylabel('Rain (1) or No Rain (0)')\n",
    "plt.show()"
   ]
  },
  {
   "cell_type": "code",
   "execution_count": null,
   "id": "e04a24ff-eae0-4daa-98f8-7a5457b91a48",
   "metadata": {},
   "outputs": [],
   "source": [
    "# Select numerical features for correlation\n",
    "corr_matrix = df[numerical_features].corr()\n",
    "\n",
    "# Plot the correlation matrix as a heatmap\n",
    "plt.figure(figsize=(8, 6))\n",
    "sns.heatmap(corr_matrix, annot=True, cmap='coolwarm', vmin=-1, vmax=1)\n",
    "plt.title('Correlation Matrix of Numerical Features')\n",
    "plt.show()"
   ]
  },
  {
   "cell_type": "code",
   "execution_count": null,
   "id": "c2c0f436-9014-4acf-89c8-9b838ce5778d",
   "metadata": {},
   "outputs": [],
   "source": [
    "# Create pair plots for numerical features, colored by 'rain_or_not'\n",
    "sns.pairplot(df, vars=numerical_features, hue='rain_or_not', palette='Set1')\n",
    "plt.suptitle('Pair Plots of Numerical Features by Rain or Not', y=1.02)\n",
    "plt.show()"
   ]
  },
  {
   "cell_type": "code",
   "execution_count": null,
   "id": "e168b219-ad02-4f72-8c1f-a67be9a2ef80",
   "metadata": {},
   "outputs": [],
   "source": [
    "# Group by 'rain_or_not' and compute summary statistics\n",
    "summary_stats = df.groupby('rain_or_not')[numerical_features].describe()\n",
    "\n",
    "# Display the summary statistics\n",
    "print(summary_stats)"
   ]
  }
 ],
 "metadata": {
  "kernelspec": {
   "display_name": "Python 3 (ipykernel)",
   "language": "python",
   "name": "python3"
  },
  "language_info": {
   "codemirror_mode": {
    "name": "ipython",
    "version": 3
   },
   "file_extension": ".py",
   "mimetype": "text/x-python",
   "name": "python",
   "nbconvert_exporter": "python",
   "pygments_lexer": "ipython3",
   "version": "3.12.4"
  }
 },
 "nbformat": 4,
 "nbformat_minor": 5
}
